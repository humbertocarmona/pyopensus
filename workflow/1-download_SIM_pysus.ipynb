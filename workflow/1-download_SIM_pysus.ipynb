{
 "cells": [
  {
   "cell_type": "code",
   "execution_count": 1,
   "id": "e438a48c",
   "metadata": {},
   "outputs": [
    {
     "name": "stdout",
     "output_type": "stream",
     "text": [
      "PyTables is not installed. No support for HDF output.\n"
     ]
    }
   ],
   "source": [
    "from pathlib import Path\n",
    "from pysus import SIM\n",
    "import pandas as pd\n",
    "import sys\n",
    "sys.path.append(\"..\")\n",
    "\n",
    "from pyopensus.storage.whandler_sus import HandlerSIM"
   ]
  },
  {
   "cell_type": "markdown",
   "id": "c723b8d8",
   "metadata": {},
   "source": [
    "- 'CID9'\tICD-9 cause-of-death group variable (before 1996) (DOR files)\n",
    "\n",
    "- 'CID10'\tICD-10 cause-of-death group variable (1996 onward) (DO files)"
   ]
  },
  {
   "cell_type": "code",
   "execution_count": 2,
   "id": "8f1f6b69",
   "metadata": {},
   "outputs": [
    {
     "data": {
      "text/plain": [
       "{'CID10': 'DO', 'CID9': 'DOR'}"
      ]
     },
     "metadata": {},
     "output_type": "display_data"
    }
   ],
   "source": [
    "sim = SIM().load()\n",
    "display(sim.groups)"
   ]
  },
  {
   "cell_type": "code",
   "execution_count": 3,
   "id": "86badca8",
   "metadata": {},
   "outputs": [],
   "source": [
    "brazil_regions = {\n",
    "    \"North\": [\"AC\", \"AP\", \"AM\", \"PA\", \"RO\", \"RR\", \"TO\"],\n",
    "    \"Northeast\": [\"AL\", \"BA\", \"CE\", \"MA\", \"PB\", \"PE\", \"PI\", \"RN\", \"SE\"],\n",
    "    \"Central-West\": [\"DF\", \"GO\", \"MT\", \"MS\"],\n",
    "    \"Southeast\": [\"ES\", \"MG\", \"RJ\", \"SP\"],\n",
    "    \"South\": [\"PR\", \"RS\", \"SC\"]\n",
    "}\n",
    "brazil_regions_names = {\n",
    "    \"North\": [\n",
    "        \"Acre\",\n",
    "        \"Amapá\",\n",
    "        \"Amazonas\",\n",
    "        \"Pará\",\n",
    "        \"Rondônia\",\n",
    "        \"Roraima\",\n",
    "        \"Tocantins\"\n",
    "    ],\n",
    "    \"Northeast\": [\n",
    "        \"Alagoas\",\n",
    "        \"Bahia\",\n",
    "        \"Ceará\",\n",
    "        \"Maranhão\",\n",
    "        \"Paraíba\",\n",
    "        \"Pernambuco\",\n",
    "        \"Piauí\",\n",
    "        \"Rio Grande do Norte\",\n",
    "        \"Sergipe\"\n",
    "    ],\n",
    "    \"Central-West\": [\n",
    "        \"Distrito Federal\",\n",
    "        \"Goiás\",\n",
    "        \"Mato Grosso\",\n",
    "        \"Mato Grosso do Sul\"\n",
    "    ],\n",
    "    \"Southeast\": [\n",
    "        \"Espírito Santo\",\n",
    "        \"Minas Gerais\",\n",
    "        \"Rio de Janeiro\",\n",
    "        \"São Paulo\"\n",
    "    ],\n",
    "    \"South\": [\n",
    "        \"Paraná\",\n",
    "        \"Rio Grande do Sul\",\n",
    "        \"Santa Catarina\"\n",
    "    ]\n",
    "}"
   ]
  },
  {
   "cell_type": "code",
   "execution_count": 6,
   "id": "8c83db07",
   "metadata": {},
   "outputs": [
    {
     "name": "stderr",
     "output_type": "stream",
     "text": [
      "817587it [00:00, 1367209.31it/s]       \n"
     ]
    }
   ],
   "source": [
    "data_dir = Path.home().joinpath(\"Workspace\", \"pyopensus\", \"data\")\n",
    "warehouse_location  = data_dir.joinpath(\"opendatasus\")\n",
    "warehouse_name = \"SIMSUS_BR.db\"\n",
    "local_dir =  data_dir.joinpath(\"simsus\")\n",
    "local_dir.mkdir(exist_ok=True)\n",
    "\n",
    "files= sim.get_files(['CID10'],year=[], uf=[])\n",
    "\n",
    "sim.download(files,local_dir=local_dir);\n"
   ]
  },
  {
   "cell_type": "code",
   "execution_count": 17,
   "id": "71e8f59a",
   "metadata": {},
   "outputs": [],
   "source": [
    "df = pd.read_parquet(parque_files[0], engine=\"fastparquet\")"
   ]
  },
  {
   "cell_type": "code",
   "execution_count": 58,
   "id": "f1e34a88",
   "metadata": {},
   "outputs": [],
   "source": [
    "def load_SIM_file(parque_filename):\n",
    "    date_columns = [\"DTOBITO\", \"DTNASC\", \"DTATESTADO\", \"DTINVESTIG\", \n",
    "                    \"DTCADASTRO\", \"DTRECEBIM\", \"DTRECORIGA\", \"DTCADINV\",\n",
    "                    \"DTCONINV\", \"DTCADINF\", \"DTCONCASO\"]\n",
    "    \n",
    "    hour_columns = [\"HORAOBITO\"]\n",
    "    \n",
    "    df = pd.read_parquet(parque_filename, engine=\"fastparquet\")\n",
    "    \n",
    "    for col in date_columns:\n",
    "            df[col] = pd.to_datetime(df[col], format=\"%d%m%Y\", errors='coerce')\n",
    "            \n",
    "    for col in hour_columns:\n",
    "        df[col] = df[col].astype(str).str.strip()\n",
    "        mask = df[col].str.match(r'^\\d{3,4}$')\n",
    "        df[col] = pd.to_datetime(df.loc[mask, col].str.zfill(4),\n",
    "                                      format='%H%M',\n",
    "                                      errors='coerce').dt.time\n",
    "    return df"
   ]
  },
  {
   "cell_type": "code",
   "execution_count": null,
   "id": "04b6974b",
   "metadata": {},
   "outputs": [
    {
     "name": "stderr",
     "output_type": "stream",
     "text": [
      "5153239it [00:00, 4814936723.25it/s] \n"
     ]
    },
    {
     "data": {
      "text/plain": [
       "[PosixPath('/home/humberto/Workspace/pyopensus/data/simsus/DOCE2023.parquet')]"
      ]
     },
     "execution_count": 76,
     "metadata": {},
     "output_type": "execute_result"
    }
   ],
   "source": [
    "\n",
    "files= sim.get_files(['CID10'],year=[2023], uf=\"CE\")\n",
    "sim.download(files,local_dir=local_dir);\n",
    "parque_files = [local_dir.joinpath(str(f).replace(\"dbc\", \"parquet\")) for f in files]\n",
    "parque_files = [local_dir.joinpath(str(f).replace(\"DBC\", \"parquet\")) for f in parque_files]\n",
    "parque_files\n"
   ]
  },
  {
   "cell_type": "code",
   "execution_count": 5,
   "id": "27137955",
   "metadata": {},
   "outputs": [
    {
     "data": {
      "text/plain": [
       "[DOBR1996.dbc,\n",
       " DOBR1997.dbc,\n",
       " DOBR1998.dbc,\n",
       " DOBR1999.dbc,\n",
       " DOBR2000.dbc,\n",
       " DOBR2001.dbc,\n",
       " DOBR2002.dbc,\n",
       " DOBR2003.dbc,\n",
       " DOBR2004.dbc,\n",
       " DOBR2005.dbc,\n",
       " DOBR2006.dbc,\n",
       " DOBR2007.dbc,\n",
       " DOBR2008.dbc,\n",
       " DOBR2009.dbc,\n",
       " DOBR2010.dbc,\n",
       " DOBR2011.dbc,\n",
       " DOBR2012.dbc,\n",
       " DOBR2013.dbc,\n",
       " DOBR2014.dbc,\n",
       " DOBR2015.dbc,\n",
       " DOBR2016.dbc,\n",
       " DOBR2017.dbc,\n",
       " DOBR2018.dbc,\n",
       " DOBR2019.dbc,\n",
       " DOBR2020.dbc,\n",
       " DOBR2021.dbc,\n",
       " DOBR2022.dbc,\n",
       " DOBR2023.dbc]"
      ]
     },
     "execution_count": 5,
     "metadata": {},
     "output_type": "execute_result"
    }
   ],
   "source": [
    "files= sim.get_files(['CID10'],year=[], uf=\"BR\")\n",
    "files"
   ]
  },
  {
   "cell_type": "code",
   "execution_count": null,
   "id": "e0c6dc5e",
   "metadata": {},
   "outputs": [],
   "source": []
  }
 ],
 "metadata": {
  "kernelspec": {
   "display_name": "opensus",
   "language": "python",
   "name": "python3"
  },
  "language_info": {
   "codemirror_mode": {
    "name": "ipython",
    "version": 3
   },
   "file_extension": ".py",
   "mimetype": "text/x-python",
   "name": "python",
   "nbconvert_exporter": "python",
   "pygments_lexer": "ipython3",
   "version": "3.13.9"
  }
 },
 "nbformat": 4,
 "nbformat_minor": 5
}
