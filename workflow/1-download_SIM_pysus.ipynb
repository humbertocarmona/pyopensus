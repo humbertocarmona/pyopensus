{
 "cells": [
  {
   "cell_type": "code",
   "execution_count": 1,
   "id": "e438a48c",
   "metadata": {},
   "outputs": [],
   "source": [
    "from pathlib import Path\n",
    "from pysus import SIM"
   ]
  },
  {
   "cell_type": "markdown",
   "id": "c723b8d8",
   "metadata": {},
   "source": [
    "- 'CID9'\tICD-9 cause-of-death group variable (before 1996)\n",
    "\n",
    "- 'CID10'\tICD-10 cause-of-death group variable (1996 onward)\n",
    "\n",
    "- 'DO'\tDeclaração de Óbito (CID-10)\tFrom 1996 onward\tICD-10 (CID-10)\tStandard dataset currently used. Each record describes one death with modern ICD-10 coding.\n",
    "\n",
    "- 'DOR'\tDeclaração de Óbito (CID-9)\tBefore 1996\tICD-9 (CID-9)\tOlder dataset — used before Brazil migrated to ICD-10. Structure is slightly different."
   ]
  },
  {
   "cell_type": "code",
   "execution_count": 3,
   "id": "8f1f6b69",
   "metadata": {},
   "outputs": [
    {
     "data": {
      "text/plain": [
       "{'CID10': 'DO', 'CID9': 'DOR'}"
      ]
     },
     "metadata": {},
     "output_type": "display_data"
    }
   ],
   "source": [
    "sim = SIM().load()\n",
    "display(sim.groups)"
   ]
  },
  {
   "cell_type": "code",
   "execution_count": 29,
   "id": "86badca8",
   "metadata": {},
   "outputs": [],
   "source": [
    "brazil_regions = {\n",
    "    \"North\": [\"AC\", \"AP\", \"AM\", \"PA\", \"RO\", \"RR\", \"TO\"],\n",
    "    \"Northeast\": [\"AL\", \"BA\", \"CE\", \"MA\", \"PB\", \"PE\", \"PI\", \"RN\", \"SE\"],\n",
    "    \"Central-West\": [\"DF\", \"GO\", \"MT\", \"MS\"],\n",
    "    \"Southeast\": [\"ES\", \"MG\", \"RJ\", \"SP\"],\n",
    "    \"South\": [\"PR\", \"RS\", \"SC\"]\n",
    "}\n",
    "brazil_regions_names = {\n",
    "    \"North\": [\n",
    "        \"Acre\",\n",
    "        \"Amapá\",\n",
    "        \"Amazonas\",\n",
    "        \"Pará\",\n",
    "        \"Rondônia\",\n",
    "        \"Roraima\",\n",
    "        \"Tocantins\"\n",
    "    ],\n",
    "    \"Northeast\": [\n",
    "        \"Alagoas\",\n",
    "        \"Bahia\",\n",
    "        \"Ceará\",\n",
    "        \"Maranhão\",\n",
    "        \"Paraíba\",\n",
    "        \"Pernambuco\",\n",
    "        \"Piauí\",\n",
    "        \"Rio Grande do Norte\",\n",
    "        \"Sergipe\"\n",
    "    ],\n",
    "    \"Central-West\": [\n",
    "        \"Distrito Federal\",\n",
    "        \"Goiás\",\n",
    "        \"Mato Grosso\",\n",
    "        \"Mato Grosso do Sul\"\n",
    "    ],\n",
    "    \"Southeast\": [\n",
    "        \"Espírito Santo\",\n",
    "        \"Minas Gerais\",\n",
    "        \"Rio de Janeiro\",\n",
    "        \"São Paulo\"\n",
    "    ],\n",
    "    \"South\": [\n",
    "        \"Paraná\",\n",
    "        \"Rio Grande do Sul\",\n",
    "        \"Santa Catarina\"\n",
    "    ]\n",
    "}"
   ]
  },
  {
   "cell_type": "code",
   "execution_count": null,
   "id": "8c83db07",
   "metadata": {},
   "outputs": [
    {
     "name": "stderr",
     "output_type": "stream",
     "text": [
      "DOPA2021.dbc:  50%|████▉     | 2.10M/4.22M [00:18<00:01, 1.88MB/s]  "
     ]
    }
   ],
   "source": [
    "local_dir =  Path.home().joinpath(\"Workspace\", \"pyopensus\", \"data\", \"simsus\")\n",
    "local_dir.mkdir(exist_ok=True)\n",
    "files= sim.get_files(['CID10'],year=[], uf=brazil_regions[\"North\"])\n",
    "sim.download(files,local_dir=local_dir)\n"
   ]
  },
  {
   "cell_type": "code",
   "execution_count": null,
   "id": "6a071934",
   "metadata": {},
   "outputs": [],
   "source": []
  }
 ],
 "metadata": {
  "kernelspec": {
   "display_name": "opensus",
   "language": "python",
   "name": "python3"
  },
  "language_info": {
   "codemirror_mode": {
    "name": "ipython",
    "version": 3
   },
   "file_extension": ".py",
   "mimetype": "text/x-python",
   "name": "python",
   "nbconvert_exporter": "python",
   "pygments_lexer": "ipython3",
   "version": "3.13.9"
  }
 },
 "nbformat": 4,
 "nbformat_minor": 5
}
