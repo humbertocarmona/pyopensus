{
 "cells": [
  {
   "cell_type": "code",
   "execution_count": 1,
   "id": "84630be1",
   "metadata": {},
   "outputs": [
    {
     "name": "stdout",
     "output_type": "stream",
     "text": [
      "PyTables is not installed. No support for HDF output.\n"
     ]
    }
   ],
   "source": [
    "from tqdm import tqdm\n",
    "from pathlib import Path\n",
    "from pysus import SIH\n",
    "import pandas as pd\n",
    "import sys\n",
    "sys.path.append(\"..\")\n",
    "\n",
    "from pyopensus.storage.whandler_sus import HandlerSIH"
   ]
  },
  {
   "cell_type": "code",
   "execution_count": 21,
   "id": "d03dc73d",
   "metadata": {},
   "outputs": [],
   "source": [
    "def load_SIH_file(data_filename):\n",
    "    \"\"\"Load a SIH RD/CE parquet file, add metadata columns, and parse date fields.\n",
    "    \n",
    "    Parameters\n",
    "    ----------\n",
    "    data_filename : str or pathlib.Path\n",
    "        Path to the parquet file to load.\n",
    "    \n",
    "    Returns\n",
    "    -------\n",
    "    pandas.DataFrame\n",
    "        Loaded data with `FONTE`, `SEQUENCIA`, and parsed date columns.\n",
    "    \"\"\"\n",
    "    \n",
    "    prefix = Path(data_filename).stem[:2]\n",
    "    uf = Path(data_filename).stem[2:4]\n",
    "    mes_ano=Path(data_filename).stem\n",
    "    mes_ano=mes_ano.replace(prefix,\"\").replace(uf,\"\")\n",
    "   \n",
    "    df = pd.read_parquet(data_filename, engine=\"fastparquet\")\n",
    "    nrows = df.shape[0]\n",
    "    \n",
    "    df['FONTE'] = [mes_ano for n in range(nrows)]\n",
    "    \n",
    "    # 'SEQUENCIA' tem valores repetidos\n",
    "    df['SEQUENCIA'] = df['SEQUENCIA'].str.replace(\" \",\"0\")\n",
    "    # df['FONTE_SEQUENCIA']= df['FONTE']+df['SEQUENCIA']\n",
    "    \n",
    "    # date columns...\n",
    "    if prefix != \"SP\":\n",
    "        for col in [\"NASC\", \"DT_INTER\", \"DT_SAIDA\"]:\n",
    "            df[col] = pd.to_datetime(df[col], format=\"%Y%m%d\", errors='coerce')\n",
    "    return df"
   ]
  },
  {
   "cell_type": "code",
   "execution_count": 25,
   "id": "d90d1846",
   "metadata": {},
   "outputs": [],
   "source": [
    "data_folder =  Path.home().joinpath(\"Workspace\", \"pyopensus\", \"data\")\n",
    "base_folder = Path.joinpath(data_folder,\"sihsus\")\n",
    "warehouse_location = Path.joinpath(data_folder, \"opendatasus\")\n",
    "warehouse_name = \"SIHSUS_NORDESTE_NO_SERVICE.db\"\n",
    "warehouse_injector = HandlerSIH(warehouse_location, warehouse_name)\n",
    "\n",
    "# warehouse_name = \"SIHSUS_NORDESTE_NO_SERVICE.db\"\n",
    "parquet_location = base_folder"
   ]
  },
  {
   "cell_type": "code",
   "execution_count": 26,
   "id": "95d7d481",
   "metadata": {},
   "outputs": [
    {
     "name": "stdout",
     "output_type": "stream",
     "text": [
      "/home/humberto/Workspace/pyopensus/data/sihsus/RDCE1901.parquet True\n",
      "/home/humberto/Workspace/pyopensus/data/sihsus/RJCE1901.parquet True\n",
      "/home/humberto/Workspace/pyopensus/data/sihsus/SPCE1901.parquet True\n"
     ]
    }
   ],
   "source": [
    "prefix_list = [\"RD\", \"RJ\", \"SP\"]\n",
    "uf_list = [\"CE\"]\n",
    "year_list = [2019]\n",
    "month_list = [1]\n",
    "sih = SIH().load()\n",
    "\n",
    "files = sih.get_files(prefix_list, uf=uf_list, year=year_list, month=month_list);\n",
    "filenames = [ parquet_location.joinpath(str(f).replace(\"dbc\", \"parquet\")) for f in files]\n",
    "for f in filenames:\n",
    "    print(f, f.exists())"
   ]
  },
  {
   "cell_type": "code",
   "execution_count": 27,
   "id": "ecdc0409",
   "metadata": {},
   "outputs": [
    {
     "name": "stderr",
     "output_type": "stream",
     "text": [
      "  0%|          | 0/3 [00:00<?, ?it/s]/opt/miniconda3/envs/opensus/lib/python3.13/site-packages/numpy/_core/fromnumeric.py:57: FutureWarning: 'DataFrame.swapaxes' is deprecated and will be removed in a future version. Please use 'DataFrame.transpose' instead.\n",
      "  return bound(*args, **kwds)\n",
      " 33%|███▎      | 1/3 [00:02<00:04,  2.32s/it]/opt/miniconda3/envs/opensus/lib/python3.13/site-packages/numpy/_core/fromnumeric.py:57: FutureWarning: 'DataFrame.swapaxes' is deprecated and will be removed in a future version. Please use 'DataFrame.transpose' instead.\n",
      "  return bound(*args, **kwds)\n",
      " 67%|██████▋   | 2/3 [00:02<00:01,  1.06s/it]/opt/miniconda3/envs/opensus/lib/python3.13/site-packages/numpy/_core/fromnumeric.py:57: FutureWarning: 'DataFrame.swapaxes' is deprecated and will be removed in a future version. Please use 'DataFrame.transpose' instead.\n",
      "  return bound(*args, **kwds)\n",
      "100%|██████████| 3/3 [00:14<00:00,  4.85s/it]\n"
     ]
    }
   ],
   "source": [
    "for current_file in tqdm(filenames):\n",
    "    fname = current_file.stem\n",
    "    prefix = fname[:2]\n",
    "    cur_df = load_SIH_file(current_file)\n",
    "    warehouse_injector.insert_sih(cur_df, fname, prefix)\n",
    "    "
   ]
  },
  {
   "cell_type": "code",
   "execution_count": null,
   "id": "acb55014",
   "metadata": {},
   "outputs": [
    {
     "data": {
      "text/plain": [
       "PosixPath('/home/humberto/Workspace/pyopensus/workflow/opendatasus/SIHSUS_NORDESTE_NO_SERVICE.db')"
      ]
     },
     "execution_count": 36,
     "metadata": {},
     "output_type": "execute_result"
    }
   ],
   "source": []
  },
  {
   "cell_type": "code",
   "execution_count": 29,
   "id": "b161f12e",
   "metadata": {},
   "outputs": [
    {
     "ename": "NameError",
     "evalue": "name 'pwd' is not defined",
     "output_type": "error",
     "traceback": [
      "\u001b[31m---------------------------------------------------------------------------\u001b[39m",
      "\u001b[31mNameError\u001b[39m                                 Traceback (most recent call last)",
      "\u001b[36mCell\u001b[39m\u001b[36m \u001b[39m\u001b[32mIn[29]\u001b[39m\u001b[32m, line 1\u001b[39m\n\u001b[32m----> \u001b[39m\u001b[32m1\u001b[39m \u001b[43mpwd\u001b[49m.joinpath(\u001b[33m\"\u001b[39m\u001b[33mopendatasus\u001b[39m\u001b[33m\"\u001b[39m,\u001b[33m\"\u001b[39m\u001b[33mSIHSUS_NORDESTE_NO_SERVICE.db\u001b[39m\u001b[33m\"\u001b[39m)\n",
      "\u001b[31mNameError\u001b[39m: name 'pwd' is not defined"
     ]
    }
   ],
   "source": [
    "pwd.joinpath(\"opendatasus\",\"SIHSUS_NORDESTE_NO_SERVICE.db\")"
   ]
  },
  {
   "cell_type": "code",
   "execution_count": 30,
   "id": "001f2cc7",
   "metadata": {},
   "outputs": [
    {
     "ename": "NameError",
     "evalue": "name 'pwd' is not defined",
     "output_type": "error",
     "traceback": [
      "\u001b[31m---------------------------------------------------------------------------\u001b[39m",
      "\u001b[31mNameError\u001b[39m                                 Traceback (most recent call last)",
      "\u001b[36mCell\u001b[39m\u001b[36m \u001b[39m\u001b[32mIn[30]\u001b[39m\u001b[32m, line 1\u001b[39m\n\u001b[32m----> \u001b[39m\u001b[32m1\u001b[39m Path(\u001b[43mpwd\u001b[49m)\n",
      "\u001b[31mNameError\u001b[39m: name 'pwd' is not defined"
     ]
    }
   ],
   "source": [
    "Path(pwd)"
   ]
  },
  {
   "cell_type": "code",
   "execution_count": null,
   "id": "93180ae2",
   "metadata": {},
   "outputs": [],
   "source": []
  }
 ],
 "metadata": {
  "kernelspec": {
   "display_name": "opensus",
   "language": "python",
   "name": "python3"
  },
  "language_info": {
   "codemirror_mode": {
    "name": "ipython",
    "version": 3
   },
   "file_extension": ".py",
   "mimetype": "text/x-python",
   "name": "python",
   "nbconvert_exporter": "python",
   "pygments_lexer": "ipython3",
   "version": "3.13.9"
  }
 },
 "nbformat": 4,
 "nbformat_minor": 5
}
