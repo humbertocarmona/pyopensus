{
 "cells": [
  {
   "cell_type": "code",
   "execution_count": 33,
   "id": "84630be1",
   "metadata": {},
   "outputs": [],
   "source": [
    "from tqdm import tqdm\n",
    "from pathlib import Path\n",
    "from pysus import SIH\n",
    "import pandas as pd\n",
    "import sys\n",
    "sys.path.append(\"..\")\n",
    "\n",
    "from pyopensus.storage.whandler_sus import HandlerSIH\n"
   ]
  },
  {
   "cell_type": "code",
   "execution_count": 39,
   "id": "d03dc73d",
   "metadata": {},
   "outputs": [],
   "source": [
    "def load_SIH_file(data_filename):\n",
    "    \"\"\"Load a SIH RD/CE parquet file, add metadata columns, and parse date fields.\n",
    "    \n",
    "    Parameters\n",
    "    ----------\n",
    "    data_filename : str or pathlib.Path\n",
    "        Path to the parquet file to load.\n",
    "    \n",
    "    Returns\n",
    "    -------\n",
    "    pandas.DataFrame\n",
    "        Loaded data with `FONTE`, `SEQUENCIA`, and parsed date columns.\n",
    "    \"\"\"\n",
    "    \n",
    "    mes_ano=Path(data_filename).stem\n",
    "    mes_ano=mes_ano.replace('RD',\"\").replace('CE',\"\")\n",
    "   \n",
    "    df = pd.read_parquet(data_filename, engine=\"fastparquet\")\n",
    "    nrows = df.shape[0]\n",
    "    \n",
    "    df['FONTE'] = [mes_ano for n in range(nrows)]\n",
    "    \n",
    "    # 'SEQUENCIA' tem valores repetidos\n",
    "    df['SEQUENCIA'] = df['SEQUENCIA'].str.replace(\" \",\"0\")\n",
    "    # df['FONTE_SEQUENCIA']= df['FONTE']+df['SEQUENCIA']\n",
    "    \n",
    "    # date columns...\n",
    "    for col in [\"NASC\", \"DT_INTER\", \"DT_SAIDA\"]:\n",
    "        df[col] = pd.to_datetime(df[col], format=\"%Y%m%d\", errors='coerce')\n",
    "    return df"
   ]
  },
  {
   "cell_type": "code",
   "execution_count": 41,
   "id": "d90d1846",
   "metadata": {},
   "outputs": [],
   "source": [
    "data_folder =  Path.home().joinpath(\"Workspace\", \"pyopensus\", \"data\")\n",
    "base_folder = Path.joinpath(data_folder,\"sihsus\")\n",
    "warehouse_location = Path.joinpath(data_folder, \"opendatasus\")\n",
    "warehouse_name = \"SIHSUS_NORDESTE_NO_SERVICE.db\"\n",
    "warehouse_injector = HandlerSIH(warehouse_location, warehouse_name)\n",
    "\n",
    "# warehouse_name = \"SIHSUS_NORDESTE_NO_SERVICE.db\"\n",
    "parquet_location = base_folder"
   ]
  },
  {
   "cell_type": "code",
   "execution_count": 31,
   "id": "95d7d481",
   "metadata": {},
   "outputs": [
    {
     "data": {
      "text/plain": [
       "[PosixPath('/home/humberto/Workspace/pyopensus/data/sihsus/RDCE2501.parquet'),\n",
       " PosixPath('/home/humberto/Workspace/pyopensus/data/sihsus/RDCE2502.parquet'),\n",
       " PosixPath('/home/humberto/Workspace/pyopensus/data/sihsus/RDCE2503.parquet'),\n",
       " PosixPath('/home/humberto/Workspace/pyopensus/data/sihsus/RDCE2504.parquet'),\n",
       " PosixPath('/home/humberto/Workspace/pyopensus/data/sihsus/RDCE2505.parquet'),\n",
       " PosixPath('/home/humberto/Workspace/pyopensus/data/sihsus/RDCE2506.parquet'),\n",
       " PosixPath('/home/humberto/Workspace/pyopensus/data/sihsus/RDCE2507.parquet'),\n",
       " PosixPath('/home/humberto/Workspace/pyopensus/data/sihsus/RDCE2508.parquet')]"
      ]
     },
     "execution_count": 31,
     "metadata": {},
     "output_type": "execute_result"
    }
   ],
   "source": [
    "prefix_list = [\"RD\"]\n",
    "uf_list = [\"CE\"]\n",
    "year_list = [2025]\n",
    "sih = SIH().load()\n",
    "\n",
    "files = sih.get_files(prefix_list, uf=uf_list, year=year_list);\n",
    "filenames = [ parquet_location.joinpath(str(f).replace(\"dbc\", \"parquet\")) for f in files]\n",
    "filenames"
   ]
  },
  {
   "cell_type": "code",
   "execution_count": null,
   "id": "ecdc0409",
   "metadata": {},
   "outputs": [
    {
     "name": "stderr",
     "output_type": "stream",
     "text": [
      "  0%|          | 0/8 [00:00<?, ?it/s]"
     ]
    },
    {
     "name": "stdout",
     "output_type": "stream",
     "text": [
      "RD\n"
     ]
    },
    {
     "data": {
      "application/vnd.microsoft.datawrangler.viewer.v0+json": {
       "columns": [
        {
         "name": "index",
         "rawType": "int64",
         "type": "integer"
        },
        {
         "name": "UF_ZI",
         "rawType": "object",
         "type": "string"
        },
        {
         "name": "ANO_CMPT",
         "rawType": "object",
         "type": "string"
        },
        {
         "name": "MES_CMPT",
         "rawType": "object",
         "type": "string"
        },
        {
         "name": "ESPEC",
         "rawType": "object",
         "type": "string"
        },
        {
         "name": "CGC_HOSP",
         "rawType": "object",
         "type": "string"
        },
        {
         "name": "N_AIH",
         "rawType": "object",
         "type": "string"
        },
        {
         "name": "IDENT",
         "rawType": "object",
         "type": "string"
        },
        {
         "name": "CEP",
         "rawType": "object",
         "type": "string"
        },
        {
         "name": "MUNIC_RES",
         "rawType": "object",
         "type": "string"
        },
        {
         "name": "NASC",
         "rawType": "datetime64[ns]",
         "type": "datetime"
        },
        {
         "name": "SEXO",
         "rawType": "object",
         "type": "string"
        },
        {
         "name": "UTI_MES_IN",
         "rawType": "object",
         "type": "string"
        },
        {
         "name": "UTI_MES_AN",
         "rawType": "object",
         "type": "string"
        },
        {
         "name": "UTI_MES_AL",
         "rawType": "object",
         "type": "string"
        },
        {
         "name": "UTI_MES_TO",
         "rawType": "object",
         "type": "string"
        },
        {
         "name": "MARCA_UTI",
         "rawType": "object",
         "type": "string"
        },
        {
         "name": "UTI_INT_IN",
         "rawType": "object",
         "type": "string"
        },
        {
         "name": "UTI_INT_AN",
         "rawType": "object",
         "type": "string"
        },
        {
         "name": "UTI_INT_AL",
         "rawType": "object",
         "type": "string"
        },
        {
         "name": "UTI_INT_TO",
         "rawType": "object",
         "type": "string"
        },
        {
         "name": "DIAR_ACOM",
         "rawType": "object",
         "type": "string"
        },
        {
         "name": "QT_DIARIAS",
         "rawType": "object",
         "type": "string"
        },
        {
         "name": "PROC_SOLIC",
         "rawType": "object",
         "type": "string"
        },
        {
         "name": "PROC_REA",
         "rawType": "object",
         "type": "string"
        },
        {
         "name": "VAL_SH",
         "rawType": "object",
         "type": "string"
        },
        {
         "name": "VAL_SP",
         "rawType": "object",
         "type": "string"
        },
        {
         "name": "VAL_SADT",
         "rawType": "object",
         "type": "string"
        },
        {
         "name": "VAL_RN",
         "rawType": "object",
         "type": "string"
        },
        {
         "name": "VAL_ACOMP",
         "rawType": "object",
         "type": "string"
        },
        {
         "name": "VAL_ORTP",
         "rawType": "object",
         "type": "string"
        },
        {
         "name": "VAL_SANGUE",
         "rawType": "object",
         "type": "string"
        },
        {
         "name": "VAL_SADTSR",
         "rawType": "object",
         "type": "string"
        },
        {
         "name": "VAL_TRANSP",
         "rawType": "object",
         "type": "string"
        },
        {
         "name": "VAL_OBSANG",
         "rawType": "object",
         "type": "string"
        },
        {
         "name": "VAL_PED1AC",
         "rawType": "object",
         "type": "string"
        },
        {
         "name": "VAL_TOT",
         "rawType": "object",
         "type": "string"
        },
        {
         "name": "VAL_UTI",
         "rawType": "object",
         "type": "string"
        },
        {
         "name": "US_TOT",
         "rawType": "object",
         "type": "string"
        },
        {
         "name": "DT_INTER",
         "rawType": "datetime64[ns]",
         "type": "datetime"
        },
        {
         "name": "DT_SAIDA",
         "rawType": "datetime64[ns]",
         "type": "datetime"
        },
        {
         "name": "DIAG_PRINC",
         "rawType": "object",
         "type": "string"
        },
        {
         "name": "DIAG_SECUN",
         "rawType": "object",
         "type": "string"
        },
        {
         "name": "COBRANCA",
         "rawType": "object",
         "type": "string"
        },
        {
         "name": "NATUREZA",
         "rawType": "object",
         "type": "string"
        },
        {
         "name": "NAT_JUR",
         "rawType": "object",
         "type": "string"
        },
        {
         "name": "GESTAO",
         "rawType": "object",
         "type": "string"
        },
        {
         "name": "RUBRICA",
         "rawType": "object",
         "type": "string"
        },
        {
         "name": "IND_VDRL",
         "rawType": "object",
         "type": "string"
        },
        {
         "name": "MUNIC_MOV",
         "rawType": "object",
         "type": "string"
        },
        {
         "name": "COD_IDADE",
         "rawType": "object",
         "type": "string"
        },
        {
         "name": "IDADE",
         "rawType": "object",
         "type": "string"
        },
        {
         "name": "DIAS_PERM",
         "rawType": "object",
         "type": "string"
        },
        {
         "name": "MORTE",
         "rawType": "object",
         "type": "string"
        },
        {
         "name": "NACIONAL",
         "rawType": "object",
         "type": "string"
        },
        {
         "name": "NUM_PROC",
         "rawType": "object",
         "type": "string"
        },
        {
         "name": "CAR_INT",
         "rawType": "object",
         "type": "string"
        },
        {
         "name": "TOT_PT_SP",
         "rawType": "object",
         "type": "string"
        },
        {
         "name": "CPF_AUT",
         "rawType": "object",
         "type": "string"
        },
        {
         "name": "HOMONIMO",
         "rawType": "object",
         "type": "string"
        },
        {
         "name": "NUM_FILHOS",
         "rawType": "object",
         "type": "string"
        },
        {
         "name": "INSTRU",
         "rawType": "object",
         "type": "string"
        },
        {
         "name": "CID_NOTIF",
         "rawType": "object",
         "type": "string"
        },
        {
         "name": "CONTRACEP1",
         "rawType": "object",
         "type": "string"
        },
        {
         "name": "CONTRACEP2",
         "rawType": "object",
         "type": "string"
        },
        {
         "name": "GESTRISCO",
         "rawType": "object",
         "type": "string"
        },
        {
         "name": "INSC_PN",
         "rawType": "object",
         "type": "string"
        },
        {
         "name": "SEQ_AIH5",
         "rawType": "object",
         "type": "string"
        },
        {
         "name": "CBOR",
         "rawType": "object",
         "type": "string"
        },
        {
         "name": "CNAER",
         "rawType": "object",
         "type": "string"
        },
        {
         "name": "VINCPREV",
         "rawType": "object",
         "type": "string"
        },
        {
         "name": "GESTOR_COD",
         "rawType": "object",
         "type": "string"
        },
        {
         "name": "GESTOR_TP",
         "rawType": "object",
         "type": "string"
        },
        {
         "name": "GESTOR_CPF",
         "rawType": "object",
         "type": "string"
        },
        {
         "name": "GESTOR_DT",
         "rawType": "object",
         "type": "string"
        },
        {
         "name": "CNES",
         "rawType": "object",
         "type": "string"
        },
        {
         "name": "CNPJ_MANT",
         "rawType": "object",
         "type": "string"
        },
        {
         "name": "INFEHOSP",
         "rawType": "object",
         "type": "string"
        },
        {
         "name": "CID_ASSO",
         "rawType": "object",
         "type": "string"
        },
        {
         "name": "CID_MORTE",
         "rawType": "object",
         "type": "string"
        },
        {
         "name": "COMPLEX",
         "rawType": "object",
         "type": "string"
        },
        {
         "name": "FINANC",
         "rawType": "object",
         "type": "string"
        },
        {
         "name": "FAEC_TP",
         "rawType": "object",
         "type": "string"
        },
        {
         "name": "REGCT",
         "rawType": "object",
         "type": "string"
        },
        {
         "name": "RACA_COR",
         "rawType": "object",
         "type": "string"
        },
        {
         "name": "ETNIA",
         "rawType": "object",
         "type": "string"
        },
        {
         "name": "SEQUENCIA",
         "rawType": "object",
         "type": "string"
        },
        {
         "name": "REMESSA",
         "rawType": "object",
         "type": "string"
        },
        {
         "name": "AUD_JUST",
         "rawType": "object",
         "type": "string"
        },
        {
         "name": "SIS_JUST",
         "rawType": "object",
         "type": "string"
        },
        {
         "name": "VAL_SH_FED",
         "rawType": "object",
         "type": "string"
        },
        {
         "name": "VAL_SP_FED",
         "rawType": "object",
         "type": "string"
        },
        {
         "name": "VAL_SH_GES",
         "rawType": "object",
         "type": "string"
        },
        {
         "name": "VAL_SP_GES",
         "rawType": "object",
         "type": "string"
        },
        {
         "name": "VAL_UCI",
         "rawType": "object",
         "type": "string"
        },
        {
         "name": "MARCA_UCI",
         "rawType": "object",
         "type": "string"
        },
        {
         "name": "DIAGSEC1",
         "rawType": "object",
         "type": "string"
        },
        {
         "name": "DIAGSEC2",
         "rawType": "object",
         "type": "string"
        },
        {
         "name": "DIAGSEC3",
         "rawType": "object",
         "type": "string"
        },
        {
         "name": "DIAGSEC4",
         "rawType": "object",
         "type": "string"
        },
        {
         "name": "DIAGSEC5",
         "rawType": "object",
         "type": "string"
        },
        {
         "name": "DIAGSEC6",
         "rawType": "object",
         "type": "string"
        },
        {
         "name": "DIAGSEC7",
         "rawType": "object",
         "type": "string"
        },
        {
         "name": "DIAGSEC8",
         "rawType": "object",
         "type": "string"
        },
        {
         "name": "DIAGSEC9",
         "rawType": "object",
         "type": "string"
        },
        {
         "name": "TPDISEC1",
         "rawType": "object",
         "type": "string"
        },
        {
         "name": "TPDISEC2",
         "rawType": "object",
         "type": "string"
        },
        {
         "name": "TPDISEC3",
         "rawType": "object",
         "type": "string"
        },
        {
         "name": "TPDISEC4",
         "rawType": "object",
         "type": "string"
        },
        {
         "name": "TPDISEC5",
         "rawType": "object",
         "type": "string"
        },
        {
         "name": "TPDISEC6",
         "rawType": "object",
         "type": "string"
        },
        {
         "name": "TPDISEC7",
         "rawType": "object",
         "type": "string"
        },
        {
         "name": "TPDISEC8",
         "rawType": "object",
         "type": "string"
        },
        {
         "name": "TPDISEC9",
         "rawType": "object",
         "type": "string"
        },
        {
         "name": "FONTE",
         "rawType": "object",
         "type": "string"
        }
       ],
       "ref": "0c463291-4405-41e4-8519-26d71114890d",
       "rows": [
        [
         "0",
         "230440",
         "2025",
         "01",
         "03",
         "04885197000225",
         "2325107135714",
         "1",
         "60766120",
         "230440",
         "2000-10-20 00:00:00",
         "3",
         " 0",
         " 0",
         " 0",
         "  0",
         "00",
         " 0",
         " 0",
         " 0",
         "  0",
         "  4",
         "  6",
         "0305020013",
         "0305020013",
         "       240.94",
         "        35.68",
         "         0.00",
         "         0.00",
         "         0.00",
         "         0.00",
         "         0.00",
         "       0.00",
         "         0.00",
         "       0.00",
         "       0.00",
         "        276.62",
         "    0.00",
         "     47.36",
         "2024-12-29 00:00:00",
         "2025-01-04 00:00:00",
         "N390",
         "0000",
         "14",
         "00",
         "1031",
         "1",
         "    0",
         "0",
         "230440",
         "4",
         "24",
         "    6",
         "0",
         "010",
         "    ",
         "02",
         "     0",
         "           ",
         "0",
         " 0",
         "0",
         "    ",
         "00",
         "00",
         "1",
         "000000000000",
         "000",
         "000000",
         "000",
         "0",
         "00000",
         "0",
         "000000000000000",
         "        ",
         "2529068",
         "04885197000144",
         " ",
         "0000",
         "0000",
         "02",
         "06",
         "      ",
         "0000",
         "03",
         "0000",
         "000004118",
         "HM23044001N202501.DTS",
         "                                                  ",
         "                                                  ",
         "      0.00",
         "      0.00",
         "      0.00",
         "      0.00",
         "      0.00",
         "00",
         "    ",
         "    ",
         "    ",
         "    ",
         "    ",
         "    ",
         "    ",
         "    ",
         " ",
         "0",
         "0",
         "0",
         "0",
         "0",
         "0",
         "0",
         "0",
         "0",
         "2501"
        ]
       ],
       "shape": {
        "columns": 114,
        "rows": 1
       }
      },
      "text/html": [
       "<div>\n",
       "<style scoped>\n",
       "    .dataframe tbody tr th:only-of-type {\n",
       "        vertical-align: middle;\n",
       "    }\n",
       "\n",
       "    .dataframe tbody tr th {\n",
       "        vertical-align: top;\n",
       "    }\n",
       "\n",
       "    .dataframe thead th {\n",
       "        text-align: right;\n",
       "    }\n",
       "</style>\n",
       "<table border=\"1\" class=\"dataframe\">\n",
       "  <thead>\n",
       "    <tr style=\"text-align: right;\">\n",
       "      <th></th>\n",
       "      <th>UF_ZI</th>\n",
       "      <th>ANO_CMPT</th>\n",
       "      <th>MES_CMPT</th>\n",
       "      <th>ESPEC</th>\n",
       "      <th>CGC_HOSP</th>\n",
       "      <th>N_AIH</th>\n",
       "      <th>IDENT</th>\n",
       "      <th>CEP</th>\n",
       "      <th>MUNIC_RES</th>\n",
       "      <th>NASC</th>\n",
       "      <th>...</th>\n",
       "      <th>TPDISEC1</th>\n",
       "      <th>TPDISEC2</th>\n",
       "      <th>TPDISEC3</th>\n",
       "      <th>TPDISEC4</th>\n",
       "      <th>TPDISEC5</th>\n",
       "      <th>TPDISEC6</th>\n",
       "      <th>TPDISEC7</th>\n",
       "      <th>TPDISEC8</th>\n",
       "      <th>TPDISEC9</th>\n",
       "      <th>FONTE</th>\n",
       "    </tr>\n",
       "  </thead>\n",
       "  <tbody>\n",
       "    <tr>\n",
       "      <th>0</th>\n",
       "      <td>230440</td>\n",
       "      <td>2025</td>\n",
       "      <td>01</td>\n",
       "      <td>03</td>\n",
       "      <td>04885197000225</td>\n",
       "      <td>2325107135714</td>\n",
       "      <td>1</td>\n",
       "      <td>60766120</td>\n",
       "      <td>230440</td>\n",
       "      <td>2000-10-20</td>\n",
       "      <td>...</td>\n",
       "      <td>0</td>\n",
       "      <td>0</td>\n",
       "      <td>0</td>\n",
       "      <td>0</td>\n",
       "      <td>0</td>\n",
       "      <td>0</td>\n",
       "      <td>0</td>\n",
       "      <td>0</td>\n",
       "      <td>0</td>\n",
       "      <td>2501</td>\n",
       "    </tr>\n",
       "  </tbody>\n",
       "</table>\n",
       "<p>1 rows × 114 columns</p>\n",
       "</div>"
      ],
      "text/plain": [
       "    UF_ZI ANO_CMPT MES_CMPT ESPEC        CGC_HOSP          N_AIH IDENT  \\\n",
       "0  230440     2025       01    03  04885197000225  2325107135714     1   \n",
       "\n",
       "        CEP MUNIC_RES       NASC  ... TPDISEC1 TPDISEC2 TPDISEC3 TPDISEC4  \\\n",
       "0  60766120    230440 2000-10-20  ...        0        0        0        0   \n",
       "\n",
       "  TPDISEC5 TPDISEC6 TPDISEC7 TPDISEC8 TPDISEC9 FONTE  \n",
       "0        0        0        0        0        0  2501  \n",
       "\n",
       "[1 rows x 114 columns]"
      ]
     },
     "metadata": {},
     "output_type": "display_data"
    },
    {
     "name": "stderr",
     "output_type": "stream",
     "text": [
      "/opt/miniconda3/envs/py313/lib/python3.13/site-packages/numpy/_core/fromnumeric.py:57: FutureWarning: 'DataFrame.swapaxes' is deprecated and will be removed in a future version. Please use 'DataFrame.transpose' instead.\n",
      "  return bound(*args, **kwds)\n",
      "  0%|          | 0/8 [00:14<?, ?it/s]\n"
     ]
    }
   ],
   "source": [
    "for current_file in tqdm(filenames):\n",
    "    fname = current_file.stem\n",
    "    prefix = fname[:2]\n",
    "    cur_df = load_SIH_file(current_file)\n",
    "    warehouse_injector.insert_sih(cur_df, fname, prefix)\n",
    "\n",
    "    break\n",
    "    "
   ]
  },
  {
   "cell_type": "code",
   "execution_count": null,
   "id": "acb55014",
   "metadata": {},
   "outputs": [],
   "source": []
  }
 ],
 "metadata": {
  "kernelspec": {
   "display_name": "py313",
   "language": "python",
   "name": "python3"
  },
  "language_info": {
   "codemirror_mode": {
    "name": "ipython",
    "version": 3
   },
   "file_extension": ".py",
   "mimetype": "text/x-python",
   "name": "python",
   "nbconvert_exporter": "python",
   "pygments_lexer": "ipython3",
   "version": "3.13.3"
  }
 },
 "nbformat": 4,
 "nbformat_minor": 5
}
