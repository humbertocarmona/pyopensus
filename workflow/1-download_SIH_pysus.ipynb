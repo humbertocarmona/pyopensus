{
 "cells": [
  {
   "cell_type": "markdown",
   "id": "8f4da8d2",
   "metadata": {},
   "source": [
    "usa pysus para fazer downloads do SIH"
   ]
  },
  {
   "cell_type": "code",
   "execution_count": 1,
   "id": "cb0896e4-a225-4c6c-b80d-d455fba84c30",
   "metadata": {},
   "outputs": [],
   "source": [
    "from pysus import SIH\n",
    "import pandas as pd\n",
    "from pathlib import Path"
   ]
  },
  {
   "cell_type": "code",
   "execution_count": 2,
   "id": "5141123d-b5f0-4345-8588-67e3d209d824",
   "metadata": {},
   "outputs": [
    {
     "data": {
      "text/plain": [
       "{'RD': 'AIH Reduzida',\n",
       " 'RJ': 'AIH Rejeitada',\n",
       " 'ER': 'AIH Rejeitada com erro',\n",
       " 'SP': 'Serviços Profissionais',\n",
       " 'CH': 'Cadastro Hospitalar',\n",
       " 'CM': ''}"
      ]
     },
     "metadata": {},
     "output_type": "display_data"
    }
   ],
   "source": [
    "# carrega o sih\n",
    "sih = SIH().load()\n",
    "display(sih.groups)"
   ]
  },
  {
   "cell_type": "code",
   "execution_count": 5,
   "id": "0e8d0d96-348d-4ab9-92e9-21f0f6c2cd5f",
   "metadata": {},
   "outputs": [
    {
     "name": "stderr",
     "output_type": "stream",
     "text": []
    },
    {
     "ename": "ConnectionResetError",
     "evalue": "[Errno 104] Connection reset by peer",
     "output_type": "error",
     "traceback": [
      "\u001b[31m---------------------------------------------------------------------------\u001b[39m",
      "\u001b[31mConnectionResetError\u001b[39m                      Traceback (most recent call last)",
      "\u001b[36mCell\u001b[39m\u001b[36m \u001b[39m\u001b[32mIn[5]\u001b[39m\u001b[32m, line 10\u001b[39m\n\u001b[32m      7\u001b[39m year_list = [\u001b[32m2016\u001b[39m,\u001b[32m2017\u001b[39m,\u001b[32m2018\u001b[39m,\u001b[32m2019\u001b[39m,\u001b[32m2020\u001b[39m,\u001b[32m2021\u001b[39m,\u001b[32m2022\u001b[39m,\u001b[32m2023\u001b[39m,\u001b[32m2024\u001b[39m,\u001b[32m2025\u001b[39m]\n\u001b[32m      9\u001b[39m files = sih.get_files(prefix_list, uf=uf_list, year=year_list);\n\u001b[32m---> \u001b[39m\u001b[32m10\u001b[39m \u001b[43msih\u001b[49m\u001b[43m.\u001b[49m\u001b[43mdownload\u001b[49m\u001b[43m(\u001b[49m\u001b[43mfiles\u001b[49m\u001b[43m,\u001b[49m\u001b[43mlocal_dir\u001b[49m\u001b[43m=\u001b[49m\u001b[43mlocal_dir\u001b[49m\u001b[43m)\u001b[49m\n\u001b[32m     11\u001b[39m [ local_dir + \u001b[38;5;28mstr\u001b[39m(f).replace(\u001b[33m\"\u001b[39m\u001b[33mdbc\u001b[39m\u001b[33m\"\u001b[39m, \u001b[33m\"\u001b[39m\u001b[33mparquet\u001b[39m\u001b[33m\"\u001b[39m) \u001b[38;5;28;01mfor\u001b[39;00m f \u001b[38;5;129;01min\u001b[39;00m files]\n",
      "\u001b[36mFile \u001b[39m\u001b[32m/opt/miniconda3/envs/py313/lib/python3.13/site-packages/pysus/ftp/__init__.py:562\u001b[39m, in \u001b[36mDatabase.download\u001b[39m\u001b[34m(self, files, local_dir)\u001b[39m\n\u001b[32m    560\u001b[39m \u001b[38;5;28;01mfor\u001b[39;00m file \u001b[38;5;129;01min\u001b[39;00m files:\n\u001b[32m    561\u001b[39m     \u001b[38;5;28;01mif\u001b[39;00m \u001b[38;5;28misinstance\u001b[39m(file, File):\n\u001b[32m--> \u001b[39m\u001b[32m562\u001b[39m         dfiles.append(\u001b[43mfile\u001b[49m\u001b[43m.\u001b[49m\u001b[43mdownload\u001b[49m\u001b[43m(\u001b[49m\u001b[43mlocal_dir\u001b[49m\u001b[43m=\u001b[49m\u001b[43mlocal_dir\u001b[49m\u001b[43m,\u001b[49m\u001b[43m \u001b[49m\u001b[43m_pbar\u001b[49m\u001b[43m=\u001b[49m\u001b[43mpbar\u001b[49m\u001b[43m)\u001b[49m)\n\u001b[32m    563\u001b[39m pbar.close()\n\u001b[32m    564\u001b[39m \u001b[38;5;28;01mif\u001b[39;00m \u001b[38;5;28mlen\u001b[39m(dfiles) == \u001b[32m1\u001b[39m:\n",
      "\u001b[36mFile \u001b[39m\u001b[32m/opt/miniconda3/envs/py313/lib/python3.13/site-packages/pysus/ftp/__init__.py:186\u001b[39m, in \u001b[36mFile.download\u001b[39m\u001b[34m(self, local_dir, _pbar)\u001b[39m\n\u001b[32m    184\u001b[39m     \u001b[38;5;28;01mif\u001b[39;00m filepath.exists():\n\u001b[32m    185\u001b[39m         filepath.unlink()\n\u001b[32m--> \u001b[39m\u001b[32m186\u001b[39m     \u001b[38;5;28;01mraise\u001b[39;00m exc\n\u001b[32m    187\u001b[39m \u001b[38;5;28;01mfinally\u001b[39;00m:\n\u001b[32m    188\u001b[39m     FTPSingleton.close()\n",
      "\u001b[36mFile \u001b[39m\u001b[32m/opt/miniconda3/envs/py313/lib/python3.13/site-packages/pysus/ftp/__init__.py:181\u001b[39m, in \u001b[36mFile.download\u001b[39m\u001b[34m(self, local_dir, _pbar)\u001b[39m\n\u001b[32m    178\u001b[39m             \u001b[38;5;28;01mif\u001b[39;00m _pbar:\n\u001b[32m    179\u001b[39m                 _pbar.update(\u001b[38;5;28mlen\u001b[39m(data))\n\u001b[32m--> \u001b[39m\u001b[32m181\u001b[39m         \u001b[43mftp\u001b[49m\u001b[43m.\u001b[49m\u001b[43mretrbinary\u001b[49m\u001b[43m(\u001b[49m\u001b[33;43mf\u001b[39;49m\u001b[33;43m\"\u001b[39;49m\u001b[33;43mRETR \u001b[39;49m\u001b[38;5;132;43;01m{\u001b[39;49;00m\u001b[38;5;28;43mself\u001b[39;49m\u001b[43m.\u001b[49m\u001b[43mpath\u001b[49m\u001b[38;5;132;43;01m}\u001b[39;49;00m\u001b[33;43m\"\u001b[39;49m\u001b[43m,\u001b[49m\u001b[43m \u001b[49m\u001b[43mcallback\u001b[49m\u001b[43m)\u001b[49m\n\u001b[32m    183\u001b[39m \u001b[38;5;28;01mexcept\u001b[39;00m \u001b[38;5;167;01mException\u001b[39;00m \u001b[38;5;28;01mas\u001b[39;00m exc:\n\u001b[32m    184\u001b[39m     \u001b[38;5;28;01mif\u001b[39;00m filepath.exists():\n",
      "\u001b[36mFile \u001b[39m\u001b[32m/opt/miniconda3/envs/py313/lib/python3.13/ftplib.py:437\u001b[39m, in \u001b[36mFTP.retrbinary\u001b[39m\u001b[34m(self, cmd, callback, blocksize, rest)\u001b[39m\n\u001b[32m    435\u001b[39m \u001b[38;5;28mself\u001b[39m.voidcmd(\u001b[33m'\u001b[39m\u001b[33mTYPE I\u001b[39m\u001b[33m'\u001b[39m)\n\u001b[32m    436\u001b[39m \u001b[38;5;28;01mwith\u001b[39;00m \u001b[38;5;28mself\u001b[39m.transfercmd(cmd, rest) \u001b[38;5;28;01mas\u001b[39;00m conn:\n\u001b[32m--> \u001b[39m\u001b[32m437\u001b[39m     \u001b[38;5;28;01mwhile\u001b[39;00m data := \u001b[43mconn\u001b[49m\u001b[43m.\u001b[49m\u001b[43mrecv\u001b[49m\u001b[43m(\u001b[49m\u001b[43mblocksize\u001b[49m\u001b[43m)\u001b[49m:\n\u001b[32m    438\u001b[39m         callback(data)\n\u001b[32m    439\u001b[39m     \u001b[38;5;66;03m# shutdown ssl layer\u001b[39;00m\n",
      "\u001b[31mConnectionResetError\u001b[39m: [Errno 104] Connection reset by peer"
     ]
    }
   ],
   "source": [
    "# baixa os arquivos por tipo, uf e ano e salva localmente\n",
    "# não vai baixar os arquivos (pastas) que já existem em local_dir\n",
    "local_dir=\"../data/sihsus/\"\n",
    "prefix_list = [\"RD\", \"RJ\", \"SP\"]\n",
    "uf_list = [\"CE\"]\n",
    "year_list = [2008,2009,2010,2011,2012,2013,2014,2015]\n",
    "year_list = [2016,2017,2018,2019,2020,2021,2022,2023,2024,2025]\n",
    "\n",
    "files = sih.get_files(prefix_list, uf=uf_list, year=year_list);\n",
    "sih.download(files,local_dir=local_dir)\n"
   ]
  },
  {
   "cell_type": "code",
   "execution_count": null,
   "id": "044bc616-65a9-4515-9fde-3c9b393868ae",
   "metadata": {},
   "outputs": [],
   "source": []
  },
  {
   "cell_type": "code",
   "execution_count": 19,
   "id": "fe73bde8-f638-4ed0-a8e0-178e21ce9630",
   "metadata": {},
   "outputs": [],
   "source": [
    "data_filename=\"../data/RDCE0801.parquet\"\n",
    "df = load_SIH_file(data_filename)"
   ]
  },
  {
   "cell_type": "code",
   "execution_count": null,
   "id": "0d4913a0-3148-41f5-93fd-54975b4dff2e",
   "metadata": {},
   "outputs": [],
   "source": []
  }
 ],
 "metadata": {
  "kernelspec": {
   "display_name": "py313",
   "language": "python",
   "name": "python3"
  },
  "language_info": {
   "codemirror_mode": {
    "name": "ipython",
    "version": 3
   },
   "file_extension": ".py",
   "mimetype": "text/x-python",
   "name": "python",
   "nbconvert_exporter": "python",
   "pygments_lexer": "ipython3",
   "version": "3.13.3"
  }
 },
 "nbformat": 4,
 "nbformat_minor": 5
}
