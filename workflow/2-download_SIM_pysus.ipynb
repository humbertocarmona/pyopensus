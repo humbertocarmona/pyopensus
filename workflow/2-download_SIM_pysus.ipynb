{
 "cells": [
  {
   "cell_type": "code",
   "execution_count": 36,
   "id": "e438a48c",
   "metadata": {},
   "outputs": [],
   "source": [
    "from pathlib import Path\n",
    "from pysus import SIM\n",
    "import pandas as pd\n",
    "import sys\n",
    "import logging\n",
    "sys.path.append(\"..\")\n",
    "\n",
    "from pyopensus.storage.whandler_sus import HandlerSIM\n",
    "logger = logging.getLogger(__name__)\n",
    "logger.setLevel(logging.INFO)"
   ]
  },
  {
   "cell_type": "markdown",
   "id": "c723b8d8",
   "metadata": {},
   "source": [
    "- 'CID9'\tICD-9 cause-of-death group variable (before 1996) (DOR files)\n",
    "\n",
    "- 'CID10'\tICD-10 cause-of-death group variable (1996 onward) (DO files)"
   ]
  },
  {
   "cell_type": "code",
   "execution_count": 2,
   "id": "8f1f6b69",
   "metadata": {},
   "outputs": [
    {
     "data": {
      "text/plain": [
       "{'CID10': 'DO', 'CID9': 'DOR'}"
      ]
     },
     "metadata": {},
     "output_type": "display_data"
    }
   ],
   "source": [
    "sim = SIM().load()\n",
    "display(sim.groups)"
   ]
  },
  {
   "cell_type": "code",
   "execution_count": 3,
   "id": "86badca8",
   "metadata": {},
   "outputs": [],
   "source": [
    "brazil_regions = {\n",
    "    \"North\": [\"AC\", \"AP\", \"AM\", \"PA\", \"RO\", \"RR\", \"TO\"],\n",
    "    \"Northeast\": [\"AL\", \"BA\", \"CE\", \"MA\", \"PB\", \"PE\", \"PI\", \"RN\", \"SE\"],\n",
    "    \"Central-West\": [\"DF\", \"GO\", \"MT\", \"MS\"],\n",
    "    \"Southeast\": [\"ES\", \"MG\", \"RJ\", \"SP\"],\n",
    "    \"South\": [\"PR\", \"RS\", \"SC\"]\n",
    "}\n",
    "brazil_regions_names = {\n",
    "    \"North\": [\n",
    "        \"Acre\",\n",
    "        \"Amapá\",\n",
    "        \"Amazonas\",\n",
    "        \"Pará\",\n",
    "        \"Rondônia\",\n",
    "        \"Roraima\",\n",
    "        \"Tocantins\"\n",
    "    ],\n",
    "    \"Northeast\": [\n",
    "        \"Alagoas\",\n",
    "        \"Bahia\",\n",
    "        \"Ceará\",\n",
    "        \"Maranhão\",\n",
    "        \"Paraíba\",\n",
    "        \"Pernambuco\",\n",
    "        \"Piauí\",\n",
    "        \"Rio Grande do Norte\",\n",
    "        \"Sergipe\"\n",
    "    ],\n",
    "    \"Central-West\": [\n",
    "        \"Distrito Federal\",\n",
    "        \"Goiás\",\n",
    "        \"Mato Grosso\",\n",
    "        \"Mato Grosso do Sul\"\n",
    "    ],\n",
    "    \"Southeast\": [\n",
    "        \"Espírito Santo\",\n",
    "        \"Minas Gerais\",\n",
    "        \"Rio de Janeiro\",\n",
    "        \"São Paulo\"\n",
    "    ],\n",
    "    \"South\": [\n",
    "        \"Paraná\",\n",
    "        \"Rio Grande do Sul\",\n",
    "        \"Santa Catarina\"\n",
    "    ]\n",
    "}"
   ]
  },
  {
   "cell_type": "code",
   "execution_count": 5,
   "id": "f1e34a88",
   "metadata": {},
   "outputs": [],
   "source": [
    "def load_SIM_file(parque_filename):\n",
    "    date_columns = [\"DTOBITO\", \"DTNASC\", \"DTATESTADO\", \"DTINVESTIG\", \n",
    "                    \"DTCADASTRO\", \"DTRECEBIM\", \"DTRECORIGA\", \"DTCADINV\",\n",
    "                    \"DTCONINV\", \"DTCADINF\", \"DTCONCASO\"]\n",
    "    \n",
    "    hour_columns = [\"HORAOBITO\"]\n",
    "    \n",
    "    df = pd.read_parquet(parque_filename, engine=\"fastparquet\")\n",
    "    \n",
    "    for col in date_columns:\n",
    "            df[col] = pd.to_datetime(df[col], format=\"%d%m%Y\", errors='coerce')\n",
    "            \n",
    "    for col in hour_columns:\n",
    "        df[col] = df[col].astype(str).str.strip()\n",
    "        mask = df[col].str.match(r'^\\d{3,4}$')\n",
    "        df[col] = pd.to_datetime(df.loc[mask, col].str.zfill(4),\n",
    "                                      format='%H%M',\n",
    "                                      errors='coerce').dt.time\n",
    "    return df"
   ]
  },
  {
   "cell_type": "code",
   "execution_count": null,
   "id": "04b6974b",
   "metadata": {},
   "outputs": [
    {
     "name": "stderr",
     "output_type": "stream",
     "text": [
      "file= DOBR2023.parquet\n"
     ]
    }
   ],
   "source": [
    "def get_files(group, year=[], uf=[], local_dir=local_dir):\n",
    "    files= sim.get_files(group,year=year, uf=uf)\n",
    "    parquet_files = [local_dir.joinpath(str(f).replace(\"dbc\", \"parquet\")) for f in files]\n",
    "    parquet_files = [local_dir.joinpath(str(f).replace(\"DBC\", \"parquet\")) for f in parquet_files]\n",
    "    if not all([f.exists() for f in parquet_files]):\n",
    "        sim.download(files,local_dir=local_dir)\n",
    "        parquet_files = [local_dir.joinpath(str(f).replace(\"dbc\", \"parquet\")) for f in files]\n",
    "        parquet_files = [local_dir.joinpath(str(f).replace(\"DBC\", \"parquet\")) for f in parquet_files]\n",
    "    for f in parquet_files:\n",
    "        logger.warning(f\"file= {f.name}\" )\n",
    "    return parquet_files"
   ]
  },
  {
   "cell_type": "code",
   "execution_count": 59,
   "id": "fc3bf3a5",
   "metadata": {},
   "outputs": [
    {
     "name": "stderr",
     "output_type": "stream",
     "text": [
      "file= DOBR2023.parquet\n"
     ]
    }
   ],
   "source": [
    "data_dir = Path.home().joinpath(\"Workspace\", \"pyopensus\", \"data\")\n",
    "warehouse_location  = data_dir.joinpath(\"opendatasus\")\n",
    "warehouse_name = \"SIMSUS_BR.db\"\n",
    "warehouse_injector = HandlerSIM(warehouse_location, warehouse_name)\n",
    "\n",
    "local_dir =  data_dir.joinpath(\"simsus\")\n",
    "local_dir.mkdir(exist_ok=True)\n",
    "\n",
    "files= sim.get_files(['CID10'],year=[], uf=[])\n",
    "\n",
    "parquet_files = get_files(['CID10'],[2023], uf=['BR'])\n"
   ]
  },
  {
   "cell_type": "code",
   "execution_count": 60,
   "id": "6b61e17c",
   "metadata": {},
   "outputs": [
    {
     "name": "stderr",
     "output_type": "stream",
     "text": [
      "/opt/miniconda3/envs/opensus/lib/python3.13/site-packages/numpy/_core/fromnumeric.py:57: FutureWarning: 'DataFrame.swapaxes' is deprecated and will be removed in a future version. Please use 'DataFrame.transpose' instead.\n",
      "  return bound(*args, **kwds)\n"
     ]
    }
   ],
   "source": [
    "for filename in parquet_files:\n",
    "    df = load_SIM_file(filename)\n",
    "    warehouse_injector.insert_sim(df,filename.stem)"
   ]
  },
  {
   "cell_type": "code",
   "execution_count": null,
   "id": "bb7ffa76",
   "metadata": {},
   "outputs": [],
   "source": []
  }
 ],
 "metadata": {
  "kernelspec": {
   "display_name": "opensus",
   "language": "python",
   "name": "python3"
  },
  "language_info": {
   "codemirror_mode": {
    "name": "ipython",
    "version": 3
   },
   "file_extension": ".py",
   "mimetype": "text/x-python",
   "name": "python",
   "nbconvert_exporter": "python",
   "pygments_lexer": "ipython3",
   "version": "3.13.9"
  }
 },
 "nbformat": 4,
 "nbformat_minor": 5
}
